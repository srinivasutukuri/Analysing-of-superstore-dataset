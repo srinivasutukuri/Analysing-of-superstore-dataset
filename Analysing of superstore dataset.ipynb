{
 "cells": [
  {
   "cell_type": "code",
   "execution_count": 1,
   "id": "a956020f",
   "metadata": {},
   "outputs": [],
   "source": [
    "import pandas as pd\n",
    "import numpy as np\n",
    "import seaborn as sns\n",
    "import matplotlib.pyplot as plt\n",
    "pd.set_option('display.max_columns', None)"
   ]
  },
  {
   "cell_type": "code",
   "execution_count": 2,
   "id": "d3f843d6",
   "metadata": {},
   "outputs": [],
   "source": [
    "store = pd.read_excel(\"data science//SuperstoreDataset.xlsx\")"
   ]
  },
  {
   "cell_type": "code",
   "execution_count": 8,
   "id": "e47ebaad",
   "metadata": {},
   "outputs": [
    {
     "data": {
      "text/html": [
       "<div>\n",
       "<style scoped>\n",
       "    .dataframe tbody tr th:only-of-type {\n",
       "        vertical-align: middle;\n",
       "    }\n",
       "\n",
       "    .dataframe tbody tr th {\n",
       "        vertical-align: top;\n",
       "    }\n",
       "\n",
       "    .dataframe thead th {\n",
       "        text-align: right;\n",
       "    }\n",
       "</style>\n",
       "<table border=\"1\" class=\"dataframe\">\n",
       "  <thead>\n",
       "    <tr style=\"text-align: right;\">\n",
       "      <th></th>\n",
       "      <th>s.no</th>\n",
       "      <th>Ship Mode</th>\n",
       "      <th>Customer ID</th>\n",
       "      <th>Customer Name</th>\n",
       "      <th>Segment</th>\n",
       "      <th>Country</th>\n",
       "      <th>City</th>\n",
       "      <th>State</th>\n",
       "      <th>Postal Code</th>\n",
       "      <th>Region</th>\n",
       "      <th>Product ID</th>\n",
       "      <th>Category</th>\n",
       "      <th>Sub-Category</th>\n",
       "      <th>Product Name</th>\n",
       "      <th>Sales</th>\n",
       "      <th>Quantity</th>\n",
       "      <th>Discount</th>\n",
       "      <th>Profit</th>\n",
       "    </tr>\n",
       "  </thead>\n",
       "  <tbody>\n",
       "    <tr>\n",
       "      <th>0</th>\n",
       "      <td>1</td>\n",
       "      <td>Second Class</td>\n",
       "      <td>CG-12520</td>\n",
       "      <td>Claire Gute</td>\n",
       "      <td>Consumer</td>\n",
       "      <td>United States</td>\n",
       "      <td>Henderson</td>\n",
       "      <td>Kentucky</td>\n",
       "      <td>42420</td>\n",
       "      <td>South</td>\n",
       "      <td>FUR-BO-10001798</td>\n",
       "      <td>Furniture</td>\n",
       "      <td>Bookcases</td>\n",
       "      <td>Bush Somerset Collection Bookcase</td>\n",
       "      <td>261.96</td>\n",
       "      <td>2</td>\n",
       "      <td>0.0</td>\n",
       "      <td>41.9136</td>\n",
       "    </tr>\n",
       "    <tr>\n",
       "      <th>1</th>\n",
       "      <td>2</td>\n",
       "      <td>Second Class</td>\n",
       "      <td>CG-12520</td>\n",
       "      <td>Claire Gute</td>\n",
       "      <td>Consumer</td>\n",
       "      <td>United States</td>\n",
       "      <td>Henderson</td>\n",
       "      <td>Kentucky</td>\n",
       "      <td>42420</td>\n",
       "      <td>South</td>\n",
       "      <td>FUR-CH-10000454</td>\n",
       "      <td>Furniture</td>\n",
       "      <td>Chairs</td>\n",
       "      <td>Hon Deluxe Fabric Upholstered Stacking Chairs,...</td>\n",
       "      <td>731.94</td>\n",
       "      <td>3</td>\n",
       "      <td>0.0</td>\n",
       "      <td>219.5820</td>\n",
       "    </tr>\n",
       "  </tbody>\n",
       "</table>\n",
       "</div>"
      ],
      "text/plain": [
       "   s.no     Ship Mode Customer ID Customer Name   Segment        Country   \n",
       "0     1  Second Class    CG-12520   Claire Gute  Consumer  United States  \\\n",
       "1     2  Second Class    CG-12520   Claire Gute  Consumer  United States   \n",
       "\n",
       "        City     State  Postal Code Region       Product ID   Category   \n",
       "0  Henderson  Kentucky        42420  South  FUR-BO-10001798  Furniture  \\\n",
       "1  Henderson  Kentucky        42420  South  FUR-CH-10000454  Furniture   \n",
       "\n",
       "  Sub-Category                                       Product Name   Sales   \n",
       "0    Bookcases                  Bush Somerset Collection Bookcase  261.96  \\\n",
       "1       Chairs  Hon Deluxe Fabric Upholstered Stacking Chairs,...  731.94   \n",
       "\n",
       "   Quantity  Discount    Profit  \n",
       "0         2       0.0   41.9136  \n",
       "1         3       0.0  219.5820  "
      ]
     },
     "execution_count": 8,
     "metadata": {},
     "output_type": "execute_result"
    }
   ],
   "source": [
    "store.head(2)"
   ]
  },
  {
   "cell_type": "code",
   "execution_count": 5,
   "id": "d4db0848",
   "metadata": {},
   "outputs": [
    {
     "data": {
      "text/plain": [
       "(9994, 18)"
      ]
     },
     "execution_count": 5,
     "metadata": {},
     "output_type": "execute_result"
    }
   ],
   "source": [
    "store.shape"
   ]
  },
  {
   "cell_type": "code",
   "execution_count": 4,
   "id": "ca3e5f2f",
   "metadata": {},
   "outputs": [
    {
     "data": {
      "text/plain": [
       "array(['Consumer', 'Corporate', 'Home Office'], dtype=object)"
      ]
     },
     "execution_count": 4,
     "metadata": {},
     "output_type": "execute_result"
    }
   ],
   "source": [
    "store.Segment.unique()"
   ]
  },
  {
   "cell_type": "code",
   "execution_count": 5,
   "id": "751abf4d",
   "metadata": {},
   "outputs": [
    {
     "name": "stdout",
     "output_type": "stream",
     "text": [
      "missing_columns:- 0\n"
     ]
    }
   ],
   "source": [
    "#columns which have the missing values\n",
    "missing_columns = [feature for feature in store.columns if store[feature].isna().sum() >= 1]\n",
    "print('missing_columns:-',len(missing_columns))"
   ]
  },
  {
   "cell_type": "code",
   "execution_count": 6,
   "id": "8fb7a8d2",
   "metadata": {
    "scrolled": true
   },
   "outputs": [
    {
     "name": "stdout",
     "output_type": "stream",
     "text": [
      "Shape of the super_store_dataset:- (9994, 18)\n",
      "Total sales in the store:- 2297200.8603000003\n",
      "Total Profit in the store:- 286397.0217\n"
     ]
    }
   ],
   "source": [
    "print('Shape of the super_store_dataset:-',store.shape)\n",
    "print('Total sales in the store:-',store.Sales.sum())\n",
    "print('Total Profit in the store:-',store.Profit.sum())"
   ]
  },
  {
   "cell_type": "code",
   "execution_count": 7,
   "id": "6711fd2f",
   "metadata": {},
   "outputs": [],
   "source": [
    "#divide only profit sales\n",
    "store_profit = store[store[\"Profit\"]>=0]"
   ]
  },
  {
   "cell_type": "code",
   "execution_count": 8,
   "id": "d05dadc2",
   "metadata": {},
   "outputs": [
    {
     "name": "stdout",
     "output_type": "stream",
     "text": [
      "Shape of the store_profit:- (8123, 18)\n",
      "Total sales which given only profit:- 1828493.7055000002\n",
      "Profit: 442528.3074\n"
     ]
    }
   ],
   "source": [
    "print('Shape of the store_profit:-',store_profit.shape)\n",
    "print('Total sales which given only profit:-',store_profit['Sales'].sum())\n",
    "print('Profit:',store_profit['Profit'].sum())"
   ]
  },
  {
   "cell_type": "code",
   "execution_count": 9,
   "id": "5fed185f",
   "metadata": {},
   "outputs": [],
   "source": [
    "#divide only loss sales\n",
    "store_loss = store[store[\"Profit\"] < 0]"
   ]
  },
  {
   "cell_type": "code",
   "execution_count": 10,
   "id": "1c607dba",
   "metadata": {},
   "outputs": [
    {
     "name": "stdout",
     "output_type": "stream",
     "text": [
      "Shape of the store_loss:- (1871, 18)\n",
      "Total sales which given only loss:- 468707.1548\n",
      "Loss: -156131.2857\n"
     ]
    }
   ],
   "source": [
    "print('Shape of the store_loss:-',store_loss.shape)\n",
    "print('Total sales which given only loss:-',store_loss['Sales'].sum())\n",
    "print('Loss:',store_loss['Profit'].sum())"
   ]
  },
  {
   "cell_type": "markdown",
   "id": "1012140a",
   "metadata": {},
   "source": [
    "For 8123 sale the profit was 442528.30 but due to 1841 sale the loss is 156131.28.due to 1841 sales the profit is reduced 35% and the total profit will be 286397.0217"
   ]
  },
  {
   "cell_type": "code",
   "execution_count": 11,
   "id": "bd2ff100",
   "metadata": {},
   "outputs": [
    {
     "data": {
      "text/plain": [
       "<seaborn.axisgrid.FacetGrid at 0x2436286bdf0>"
      ]
     },
     "execution_count": 11,
     "metadata": {},
     "output_type": "execute_result"
    },
    {
     "data": {
      "image/png": "[encoded data removed]",
      "text/plain": [
       "<Figure size 500x500 with 1 Axes>"
      ]
     },
     "metadata": {},
     "output_type": "display_data"
    }
   ],
   "source": [
    "#distribution of the treget variablemjjj\n",
    "sns.displot(store.Profit)"
   ]
  },
  {
   "cell_type": "code",
   "execution_count": 12,
   "id": "634ff638",
   "metadata": {},
   "outputs": [
    {
     "data": {
      "text/plain": [
       "<seaborn.axisgrid.FacetGrid at 0x24303ab3970>"
      ]
     },
     "execution_count": 12,
     "metadata": {},
     "output_type": "execute_result"
    },
    {
     "data": {
      "image/png": "[encoded data removed]",
      "text/plain": [
       "<Figure size 500x500 with 1 Axes>"
      ]
     },
     "metadata": {},
     "output_type": "display_data"
    }
   ],
   "source": [
    "sns.displot(store.Sales)"
   ]
  },
  {
   "cell_type": "code",
   "execution_count": 13,
   "id": "0d4d2111",
   "metadata": {},
   "outputs": [
    {
     "data": {
      "text/plain": [
       "<Axes: >"
      ]
     },
     "execution_count": 13,
     "metadata": {},
     "output_type": "execute_result"
    },
    {
     "data": {
      "image/png": "[encoded data removed]",
      "text/plain": [
       "<Figure size 640x480 with 1 Axes>"
      ]
     },
     "metadata": {},
     "output_type": "display_data"
    }
   ],
   "source": [
    "sns.boxplot(store['Profit'])"
   ]
  },
  {
   "cell_type": "code",
   "execution_count": 14,
   "id": "12bbefd1",
   "metadata": {},
   "outputs": [],
   "source": [
    "#removing the outliers\n",
    "q1 = store['Profit'].quantile(0.25)\n",
    "q3 = store['Profit'].quantile(0.75)\n",
    "iqr = q3 - q1\n",
    "lowerlimit = q1 - 1.5 * iqr\n",
    "upperlimit = q3 + 1.5 * iqr"
   ]
  },
  {
   "cell_type": "code",
   "execution_count": 15,
   "id": "55106141",
   "metadata": {},
   "outputs": [
    {
     "data": {
      "text/plain": [
       "(-39.724125, 70.816875)"
      ]
     },
     "execution_count": 15,
     "metadata": {},
     "output_type": "execute_result"
    }
   ],
   "source": [
    "lowerlimit,upperlimit"
   ]
  },
  {
   "cell_type": "code",
   "execution_count": 16,
   "id": "2622fb48",
   "metadata": {
    "scrolled": true
   },
   "outputs": [],
   "source": [
    "#the normal profit if divided with respect to lower and upper limit\n",
    "normal_store = store[(store['Profit'] < upperlimit) & (store['Profit'] > lowerlimit)]"
   ]
  },
  {
   "cell_type": "code",
   "execution_count": 17,
   "id": "85a3e614",
   "metadata": {
    "scrolled": true
   },
   "outputs": [
    {
     "data": {
      "text/html": [
       "<div>\n",
       "<style scoped>\n",
       "    .dataframe tbody tr th:only-of-type {\n",
       "        vertical-align: middle;\n",
       "    }\n",
       "\n",
       "    .dataframe tbody tr th {\n",
       "        vertical-align: top;\n",
       "    }\n",
       "\n",
       "    .dataframe thead th {\n",
       "        text-align: right;\n",
       "    }\n",
       "</style>\n",
       "<table border=\"1\" class=\"dataframe\">\n",
       "  <thead>\n",
       "    <tr style=\"text-align: right;\">\n",
       "      <th></th>\n",
       "      <th>s.no</th>\n",
       "      <th>Ship Mode</th>\n",
       "      <th>Customer ID</th>\n",
       "      <th>Customer Name</th>\n",
       "      <th>Segment</th>\n",
       "      <th>Country</th>\n",
       "      <th>City</th>\n",
       "      <th>State</th>\n",
       "      <th>Postal Code</th>\n",
       "      <th>Region</th>\n",
       "      <th>Product ID</th>\n",
       "      <th>Category</th>\n",
       "      <th>Sub-Category</th>\n",
       "      <th>Product Name</th>\n",
       "      <th>Sales</th>\n",
       "      <th>Quantity</th>\n",
       "      <th>Discount</th>\n",
       "      <th>Profit</th>\n",
       "    </tr>\n",
       "  </thead>\n",
       "  <tbody>\n",
       "    <tr>\n",
       "      <th>0</th>\n",
       "      <td>1</td>\n",
       "      <td>Second Class</td>\n",
       "      <td>CG-12520</td>\n",
       "      <td>Claire Gute</td>\n",
       "      <td>Consumer</td>\n",
       "      <td>United States</td>\n",
       "      <td>Henderson</td>\n",
       "      <td>Kentucky</td>\n",
       "      <td>42420</td>\n",
       "      <td>South</td>\n",
       "      <td>FUR-BO-10001798</td>\n",
       "      <td>Furniture</td>\n",
       "      <td>Bookcases</td>\n",
       "      <td>Bush Somerset Collection Bookcase</td>\n",
       "      <td>261.960</td>\n",
       "      <td>2</td>\n",
       "      <td>0.0</td>\n",
       "      <td>41.9136</td>\n",
       "    </tr>\n",
       "    <tr>\n",
       "      <th>2</th>\n",
       "      <td>3</td>\n",
       "      <td>Second Class</td>\n",
       "      <td>DV-13045</td>\n",
       "      <td>Darrin Van Huff</td>\n",
       "      <td>Corporate</td>\n",
       "      <td>United States</td>\n",
       "      <td>Los Angeles</td>\n",
       "      <td>California</td>\n",
       "      <td>90036</td>\n",
       "      <td>West</td>\n",
       "      <td>OFF-LA-10000240</td>\n",
       "      <td>Office Supplies</td>\n",
       "      <td>Labels</td>\n",
       "      <td>Self-Adhesive Address Labels for Typewriters b...</td>\n",
       "      <td>14.620</td>\n",
       "      <td>2</td>\n",
       "      <td>0.0</td>\n",
       "      <td>6.8714</td>\n",
       "    </tr>\n",
       "    <tr>\n",
       "      <th>4</th>\n",
       "      <td>5</td>\n",
       "      <td>Standard Class</td>\n",
       "      <td>SO-20335</td>\n",
       "      <td>Sean O'Donnell</td>\n",
       "      <td>Consumer</td>\n",
       "      <td>United States</td>\n",
       "      <td>Fort Lauderdale</td>\n",
       "      <td>Florida</td>\n",
       "      <td>33311</td>\n",
       "      <td>South</td>\n",
       "      <td>OFF-ST-10000760</td>\n",
       "      <td>Office Supplies</td>\n",
       "      <td>Storage</td>\n",
       "      <td>Eldon Fold 'N Roll Cart System</td>\n",
       "      <td>22.368</td>\n",
       "      <td>2</td>\n",
       "      <td>0.2</td>\n",
       "      <td>2.5164</td>\n",
       "    </tr>\n",
       "    <tr>\n",
       "      <th>5</th>\n",
       "      <td>6</td>\n",
       "      <td>Standard Class</td>\n",
       "      <td>BH-11710</td>\n",
       "      <td>Brosina Hoffman</td>\n",
       "      <td>Consumer</td>\n",
       "      <td>United States</td>\n",
       "      <td>Los Angeles</td>\n",
       "      <td>California</td>\n",
       "      <td>90032</td>\n",
       "      <td>West</td>\n",
       "      <td>FUR-FU-10001487</td>\n",
       "      <td>Furniture</td>\n",
       "      <td>Furnishings</td>\n",
       "      <td>Eldon Expressions Wood and Plastic Desk Access...</td>\n",
       "      <td>48.860</td>\n",
       "      <td>7</td>\n",
       "      <td>0.0</td>\n",
       "      <td>14.1694</td>\n",
       "    </tr>\n",
       "    <tr>\n",
       "      <th>6</th>\n",
       "      <td>7</td>\n",
       "      <td>Standard Class</td>\n",
       "      <td>BH-11710</td>\n",
       "      <td>Brosina Hoffman</td>\n",
       "      <td>Consumer</td>\n",
       "      <td>United States</td>\n",
       "      <td>Los Angeles</td>\n",
       "      <td>California</td>\n",
       "      <td>90032</td>\n",
       "      <td>West</td>\n",
       "      <td>OFF-AR-10002833</td>\n",
       "      <td>Office Supplies</td>\n",
       "      <td>Art</td>\n",
       "      <td>Newell 322</td>\n",
       "      <td>7.280</td>\n",
       "      <td>4</td>\n",
       "      <td>0.0</td>\n",
       "      <td>1.9656</td>\n",
       "    </tr>\n",
       "  </tbody>\n",
       "</table>\n",
       "</div>"
      ],
      "text/plain": [
       "   s.no       Ship Mode Customer ID    Customer Name    Segment   \n",
       "0     1    Second Class    CG-12520      Claire Gute   Consumer  \\\n",
       "2     3    Second Class    DV-13045  Darrin Van Huff  Corporate   \n",
       "4     5  Standard Class    SO-20335   Sean O'Donnell   Consumer   \n",
       "5     6  Standard Class    BH-11710  Brosina Hoffman   Consumer   \n",
       "6     7  Standard Class    BH-11710  Brosina Hoffman   Consumer   \n",
       "\n",
       "         Country             City       State  Postal Code Region   \n",
       "0  United States        Henderson    Kentucky        42420  South  \\\n",
       "2  United States      Los Angeles  California        90036   West   \n",
       "4  United States  Fort Lauderdale     Florida        33311  South   \n",
       "5  United States      Los Angeles  California        90032   West   \n",
       "6  United States      Los Angeles  California        90032   West   \n",
       "\n",
       "        Product ID         Category Sub-Category   \n",
       "0  FUR-BO-10001798        Furniture    Bookcases  \\\n",
       "2  OFF-LA-10000240  Office Supplies       Labels   \n",
       "4  OFF-ST-10000760  Office Supplies      Storage   \n",
       "5  FUR-FU-10001487        Furniture  Furnishings   \n",
       "6  OFF-AR-10002833  Office Supplies          Art   \n",
       "\n",
       "                                        Product Name    Sales  Quantity   \n",
       "0                  Bush Somerset Collection Bookcase  261.960         2  \\\n",
       "2  Self-Adhesive Address Labels for Typewriters b...   14.620         2   \n",
       "4                     Eldon Fold 'N Roll Cart System   22.368         2   \n",
       "5  Eldon Expressions Wood and Plastic Desk Access...   48.860         7   \n",
       "6                                         Newell 322    7.280         4   \n",
       "\n",
       "   Discount   Profit  \n",
       "0       0.0  41.9136  \n",
       "2       0.0   6.8714  \n",
       "4       0.2   2.5164  \n",
       "5       0.0  14.1694  \n",
       "6       0.0   1.9656  "
      ]
     },
     "execution_count": 17,
     "metadata": {},
     "output_type": "execute_result"
    }
   ],
   "source": [
    "normal_store.head()"
   ]
  },
  {
   "cell_type": "code",
   "execution_count": 19,
   "id": "d0a0331b",
   "metadata": {},
   "outputs": [
    {
     "data": {
      "text/plain": [
       "<seaborn.axisgrid.FacetGrid at 0x2430b724b50>"
      ]
     },
     "execution_count": 19,
     "metadata": {},
     "output_type": "execute_result"
    },
    {
     "data": {
      "image/png": "[encoded data removed]",
      "text/plain": [
       "<Figure size 500x500 with 1 Axes>"
      ]
     },
     "metadata": {},
     "output_type": "display_data"
    }
   ],
   "source": [
    "sns.displot(normal_store['Profit'])"
   ]
  },
  {
   "cell_type": "code",
   "execution_count": 20,
   "id": "a3e693ec",
   "metadata": {},
   "outputs": [
    {
     "data": {
      "text/plain": [
       "<seaborn.axisgrid.FacetGrid at 0x2430b7ea260>"
      ]
     },
     "execution_count": 20,
     "metadata": {},
     "output_type": "execute_result"
    },
    {
     "data": {
      "image/png": "[encoded data removed]",
      "text/plain": [
       "<Figure size 500x500 with 1 Axes>"
      ]
     },
     "metadata": {},
     "output_type": "display_data"
    }
   ],
   "source": [
    "sns.displot(normal_store['Sales'])"
   ]
  },
  {
   "cell_type": "code",
   "execution_count": 21,
   "id": "1a19fab4",
   "metadata": {},
   "outputs": [
    {
     "name": "stdout",
     "output_type": "stream",
     "text": [
      "Shape of normal_store:- (8113, 18)\n",
      "Total no of sales given normal profit 738699.5648\n",
      "normal profit: 94143.9496\n"
     ]
    }
   ],
   "source": [
    "print('Shape of normal_store:-',normal_store.shape)\n",
    "print('Total no of sales given normal profit',normal_store['Sales'].sum())\n",
    "print('normal profit:',normal_store['Profit'].sum())"
   ]
  },
  {
   "cell_type": "markdown",
   "id": "e9f6dd2a",
   "metadata": {},
   "source": [
    "Out of 9994 sales, 81.17% of them account for only 32% of the total sales amount, which is equal to $738,699.56. "
   ]
  },
  {
   "cell_type": "code",
   "execution_count": 22,
   "id": "2956dc8a",
   "metadata": {},
   "outputs": [],
   "source": [
    "#abnormal_profit divided by upperlimit\n",
    "adnormal_profit = store[store['Profit'] >= upperlimit]"
   ]
  },
  {
   "cell_type": "code",
   "execution_count": 23,
   "id": "da3cd850",
   "metadata": {},
   "outputs": [
    {
     "name": "stdout",
     "output_type": "stream",
     "text": [
      "Shape of adnormal_profit:- (1277, 18)\n",
      "Total no of sales given adnormal profit: 1213419.6935\n",
      "adnormal profit: 332580.4368\n"
     ]
    }
   ],
   "source": [
    "print('Shape of adnormal_profit:-',adnormal_profit.shape)\n",
    "print('Total no of sales given adnormal profit:',adnormal_profit['Sales'].sum())\n",
    "print('adnormal profit:',adnormal_profit['Profit'].sum())"
   ]
  },
  {
   "cell_type": "markdown",
   "id": "90b070e1",
   "metadata": {},
   "source": [
    "Here out of 9994 sales, only 12.77% of them do not have any loss and account for 52.8% of the total sales amount. "
   ]
  },
  {
   "cell_type": "markdown",
   "id": "3321292d",
   "metadata": {},
   "source": [
    "Only for 1277 no of sale the profit is 332580.4368, it is 75 % in the totalmprofit of the sales. We should research this. "
   ]
  },
  {
   "cell_type": "code",
   "execution_count": 25,
   "id": "1d4166f1",
   "metadata": {},
   "outputs": [],
   "source": [
    "#adnormal_loss divided by lowerlimit\n",
    "adnormal_loss = store[store['Profit'] < lowerlimit]"
   ]
  },
  {
   "cell_type": "code",
   "execution_count": 26,
   "id": "11cac2c6",
   "metadata": {},
   "outputs": [
    {
     "name": "stdout",
     "output_type": "stream",
     "text": [
      "Shape of adnormal_loss:- (604, 18)\n",
      "Total no of sales given adnormal loss: 345081.602\n",
      "adnormal loss: -140327.3647\n"
     ]
    }
   ],
   "source": [
    "print('Shape of adnormal_loss:-',adnormal_loss.shape)\n",
    "print('Total no of sales given adnormal loss:',adnormal_loss['Sales'].sum())\n",
    "print('adnormal loss:',adnormal_loss['Profit'].sum())"
   ]
  },
  {
   "cell_type": "markdown",
   "id": "2e24f727",
   "metadata": {},
   "source": [
    "Due only 604 no of Sales 140327.36 is the loss, it is 89.8% in total loss."
   ]
  },
  {
   "cell_type": "markdown",
   "id": "32df9206",
   "metadata": {},
   "source": [
    "for  further research ecel is easy(pivote tables)"
   ]
  },
  {
   "cell_type": "code",
   "execution_count": 27,
   "id": "24805e25",
   "metadata": {},
   "outputs": [],
   "source": [
    "#combinding the two data sets (profit and loss)\n",
    "adnormal_sales = pd.concat([adnormal_profit,adnormal_loss], axis= 0)"
   ]
  },
  {
   "cell_type": "code",
   "execution_count": 28,
   "id": "7ea21351",
   "metadata": {},
   "outputs": [],
   "source": [
    "#downloding the datasets\n",
    "adnormal_sales.to_csv('data science//New_adnormal_sales.csv',index = False)\n",
    "normal_store.to_csv('data science//New_normal_sales.csv',index = False)"
   ]
  }
 ],
 "metadata": {
  "kernelspec": {
   "display_name": "Python 3 (ipykernel)",
   "language": "python",
   "name": "python3"
  },
  "language_info": {
   "codemirror_mode": {
    "name": "ipython",
    "version": 3
   },
   "file_extension": ".py",
   "mimetype": "text/x-python",
   "name": "python",
   "nbconvert_exporter": "python",
   "pygments_lexer": "ipython3",
   "version": "3.10.11"
  }
 },
 "nbformat": 4,
 "nbformat_minor": 5
}
